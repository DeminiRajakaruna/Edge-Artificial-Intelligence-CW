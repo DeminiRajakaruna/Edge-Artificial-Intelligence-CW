{
 "cells": [
  {
   "cell_type": "markdown",
   "id": "7424071e",
   "metadata": {},
   "source": [
    "Data clean"
   ]
  },
  {
   "cell_type": "code",
   "execution_count": null,
   "id": "73c19ca8",
   "metadata": {
    "vscode": {
     "languageId": "plaintext"
    }
   },
   "outputs": [],
   "source": []
  },
  {
   "cell_type": "code",
   "execution_count": null,
   "id": "4a1e2527",
   "metadata": {
    "vscode": {
     "languageId": "plaintext"
    }
   },
   "outputs": [],
   "source": []
  },
  {
   "cell_type": "code",
   "execution_count": null,
   "id": "7392f9ad",
   "metadata": {
    "vscode": {
     "languageId": "plaintext"
    }
   },
   "outputs": [],
   "source": []
  }
 ],
 "metadata": {
  "language_info": {
   "name": "python"
  }
 },
 "nbformat": 4,
 "nbformat_minor": 5
}
