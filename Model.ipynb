{
 "cells": [
  {
   "cell_type": "markdown",
   "id": "7424071e",
   "metadata": {},
   "source": [
    "Data clean"
   ]
  },
  {
   "cell_type": "code",
   "execution_count": 1,
   "id": "73c19ca8",
   "metadata": {},
   "outputs": [],
   "source": [
    "# System and File Handling\n",
    "import os\n",
    "import shutil\n",
    "import random\n",
    "\n",
    "# Data Handling\n",
    "import numpy as np\n",
    "from sklearn.model_selection import train_test_split\n",
    "\n",
    "# Deep Learning (Keras & TensorFlow)\n",
    "import tensorflow as tf\n",
    "from tensorflow.keras.preprocessing.image import ImageDataGenerator\n",
    "from tensorflow.keras.models import Sequential, load_model\n",
    "from tensorflow.keras.layers import Conv2D, MaxPooling2D, Flatten, Dense, Dropout\n",
    "from tensorflow.keras.optimizers import Adam\n",
    "from tensorflow.keras.preprocessing import image\n",
    "\n",
    "# Plotting (Optional)\n",
    "import matplotlib.pyplot as plt\n"
   ]
  },
  {
   "cell_type": "code",
   "execution_count": 3,
   "id": "4a1e2527",
   "metadata": {},
   "outputs": [
    {
     "name": "stdout",
     "output_type": "stream",
     "text": [
      "🐘 Elephant images: 1441\n",
      "🚫 Non-elephant images: 5631\n"
     ]
    }
   ],
   "source": [
    "import os\n",
    "\n",
    "# Count images in each folder\n",
    "elephant_dir = \"Data Set\"\n",
    "nonelephant_dir = \"Not Data Set\"\n",
    "\n",
    "elephant_count = len(os.listdir(elephant_dir))\n",
    "nonelephant_count = len(os.listdir(nonelephant_dir))\n",
    "\n",
    "print(f\"🐘 Elephant images: {elephant_count}\")\n",
    "print(f\"🚫 Non-elephant images: {nonelephant_count}\")\n"
   ]
  },
  {
   "cell_type": "code",
   "execution_count": 4,
   "id": "7392f9ad",
   "metadata": {},
   "outputs": [
    {
     "name": "stdout",
     "output_type": "stream",
     "text": [
      "✅ Both folders now have 1441 images\n"
     ]
    }
   ],
   "source": [
    "import random\n",
    "\n",
    "def balance_dataset(folder1, folder2):\n",
    "    count1 = len(os.listdir(folder1))\n",
    "    count2 = len(os.listdir(folder2))\n",
    "    min_count = min(count1, count2)\n",
    "\n",
    "    for folder in [folder1, folder2]:\n",
    "        all_files = os.listdir(folder)\n",
    "        if len(all_files) > min_count:\n",
    "            remove_files = random.sample(all_files, len(all_files) - min_count)\n",
    "            for file in remove_files:\n",
    "                os.remove(os.path.join(folder, file))\n",
    "\n",
    "    print(f\"✅ Both folders now have {min_count} images\")\n",
    "\n",
    "# Call to balance\n",
    "balance_dataset(elephant_dir, nonelephant_dir)\n"
   ]
  },
  {
   "cell_type": "code",
   "execution_count": null,
   "id": "7db3f5ae",
   "metadata": {},
   "outputs": [],
   "source": []
  }
 ],
 "metadata": {
  "kernelspec": {
   "display_name": "Python 3",
   "language": "python",
   "name": "python3"
  },
  "language_info": {
   "codemirror_mode": {
    "name": "ipython",
    "version": 3
   },
   "file_extension": ".py",
   "mimetype": "text/x-python",
   "name": "python",
   "nbconvert_exporter": "python",
   "pygments_lexer": "ipython3",
   "version": "3.8.3"
  }
 },
 "nbformat": 4,
 "nbformat_minor": 5
}
