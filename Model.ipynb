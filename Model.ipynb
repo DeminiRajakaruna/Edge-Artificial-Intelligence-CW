{
 "cells": [
  {
   "cell_type": "markdown",
   "id": "7424071e",
   "metadata": {},
   "source": [
    "Data clean"
   ]
  },
  {
   "cell_type": "code",
   "execution_count": 1,
   "id": "73c19ca8",
   "metadata": {},
   "outputs": [],
   "source": [
    "# System and File Handling\n",
    "import os\n",
    "import shutil\n",
    "import random\n",
    "\n",
    "# Data Handling\n",
    "import numpy as np\n",
    "from sklearn.model_selection import train_test_split\n",
    "\n",
    "# Deep Learning (Keras & TensorFlow)\n",
    "import tensorflow as tf\n",
    "from tensorflow.keras.preprocessing.image import ImageDataGenerator\n",
    "from tensorflow.keras.models import Sequential, load_model\n",
    "from tensorflow.keras.layers import Conv2D, MaxPooling2D, Flatten, Dense, Dropout\n",
    "from tensorflow.keras.optimizers import Adam\n",
    "from tensorflow.keras.preprocessing import image\n",
    "\n",
    "# Plotting (Optional)\n",
    "import matplotlib.pyplot as plt\n"
   ]
  },
  {
   "cell_type": "code",
   "execution_count": 2,
   "id": "4a1e2527",
   "metadata": {},
   "outputs": [
    {
     "name": "stdout",
     "output_type": "stream",
     "text": [
      "🐘 Elephant images: 1021\n",
      "🚫 Non-elephant images: 5631\n"
     ]
    }
   ],
   "source": [
    "import os\n",
    "\n",
    "# Count images in each folder\n",
    "elephant_dir = \"Data Set\"\n",
    "nonelephant_dir = \"Not Data Set\"\n",
    "\n",
    "elephant_count = len(os.listdir(elephant_dir))\n",
    "nonelephant_count = len(os.listdir(nonelephant_dir))\n",
    "\n",
    "print(f\"🐘 Elephant images: {elephant_count}\")\n",
    "print(f\"🚫 Non-elephant images: {nonelephant_count}\")\n"
   ]
  },
  {
   "cell_type": "code",
   "execution_count": null,
   "id": "7392f9ad",
   "metadata": {},
   "outputs": [],
   "source": []
  }
 ],
 "metadata": {
  "kernelspec": {
   "display_name": "Python 3",
   "language": "python",
   "name": "python3"
  },
  "language_info": {
   "codemirror_mode": {
    "name": "ipython",
    "version": 3
   },
   "file_extension": ".py",
   "mimetype": "text/x-python",
   "name": "python",
   "nbconvert_exporter": "python",
   "pygments_lexer": "ipython3",
   "version": "3.8.3"
  }
 },
 "nbformat": 4,
 "nbformat_minor": 5
}
